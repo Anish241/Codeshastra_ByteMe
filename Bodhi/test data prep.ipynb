{
 "cells": [
  {
   "cell_type": "code",
   "execution_count": 34,
   "metadata": {},
   "outputs": [],
   "source": [
    "import cv2\n",
    "import os\n",
    "import pandas as pd\n",
    "import numpy as np"
   ]
  },
  {
   "cell_type": "code",
   "execution_count": 35,
   "metadata": {},
   "outputs": [],
   "source": [
    "# def create_seq_of_frames(vidPath):\n",
    "#     sequence = []\n",
    "#     vid = cv2.VideoCapture(vidPath)\n",
    "#     total_frames = int(vid.get(cv2.CAP_PROP_FRAME_COUNT))\n",
    "#     print(\"There are {} frames to be processed \".format(total_frames))\n",
    "#     for frame_num in range(total_frames):\n",
    "#         if(frame_num % 5 != 0):\n",
    "#             continue\n",
    "#         vid.set(cv2.CAP_PROP_POS_FRAMES, frame_num)\n",
    "#         _ , frame = vid.read()\n",
    "#         frame.resize(64,64,3)\n",
    "#         print(\"Processing frame {}\".format(frame_num))\n",
    "#         sequence.append(frame/255)\n",
    "#         # cv2.imwrite('{}/{}.png'.format(vidPath[5:-4],frame_num), frame)\n",
    "#         if(frame_num > 45):\n",
    "#             break\n",
    "#     vid.release()\n",
    "#     return sequence"
   ]
  },
  {
   "cell_type": "code",
   "execution_count": 36,
   "metadata": {},
   "outputs": [],
   "source": [
    "def create_seq_of_frames(vidPath):\n",
    "    sequence = []\n",
    "    vid = cv2.VideoCapture(vidPath)\n",
    "    total_frames = int(vid.get(cv2.CAP_PROP_FRAME_COUNT))\n",
    "    print(\"There are {} frames to be processed \".format(total_frames))\n",
    "    \n",
    "    # Determine the step size to select frames evenly\n",
    "    step = max(total_frames // 12, 1)\n",
    "    \n",
    "    for frame_num in range(0, total_frames, step):\n",
    "        vid.set(cv2.CAP_PROP_POS_FRAMES, frame_num)\n",
    "        _, frame = vid.read()\n",
    "        frame = cv2.resize(frame, (64, 64))\n",
    "        # print(\"Processing frame {}\".format(frame_num))\n",
    "        sequence.append(frame / 255)\n",
    "    \n",
    "    # Apply pre-padding if necessary\n",
    "    while len(sequence) < 12:\n",
    "        sequence.insert(0, np.zeros((64, 64, 3)))\n",
    "    \n",
    "    vid.release()\n",
    "    return sequence[:12]  # Ensure the returned sequence has a maximum length of 12 frames\n"
   ]
  },
  {
   "cell_type": "code",
   "execution_count": 37,
   "metadata": {},
   "outputs": [],
   "source": [
    "# create_seq_of_frames(r\"C:\\Users\\Rommel\\OneDrive\\Pictures\\Camera Roll\\WIN_20240330_13_58_23_Pro.mp4\")"
   ]
  },
  {
   "cell_type": "code",
   "execution_count": 38,
   "metadata": {},
   "outputs": [],
   "source": [
    "def create_dataset(parentFolder,dataset):\n",
    "    for file in os.listdir(parentFolder):\n",
    "        filePath = \"{}/{}\".format(parentFolder,file)\n",
    "        print(\"Processing \" + filePath)\n",
    "        dataset.append(create_seq_of_frames(filePath))\n",
    "    return dataset"
   ]
  },
  {
   "cell_type": "code",
   "execution_count": 39,
   "metadata": {},
   "outputs": [],
   "source": [
    "x = []\n",
    "y = []"
   ]
  },
  {
   "cell_type": "code",
   "execution_count": 40,
   "metadata": {},
   "outputs": [
    {
     "name": "stdout",
     "output_type": "stream",
     "text": [
      "Processing D:/Projects/Codeshastra_ByteMe/Testing data/incorrect/20240330_180901.mp4\n",
      "There are 38 frames to be processed \n"
     ]
    }
   ],
   "source": [
    "x = create_dataset(\"D:/Projects/Codeshastra_ByteMe/Testing data/correct\",x)\n",
    "x = create_dataset(\"D:/Projects/Codeshastra_ByteMe/Testing data/incorrect\",x)"
   ]
  },
  {
   "cell_type": "code",
   "execution_count": 41,
   "metadata": {},
   "outputs": [],
   "source": [
    "y = ['correct'] * 5 + ['incorrect'] * 4"
   ]
  },
  {
   "cell_type": "code",
   "execution_count": 42,
   "metadata": {},
   "outputs": [],
   "source": [
    "import pickle"
   ]
  },
  {
   "cell_type": "code",
   "execution_count": 43,
   "metadata": {},
   "outputs": [],
   "source": [
    "dataset = {\n",
    "    \"features\":x,\n",
    "    \"labels\":y\n",
    "}"
   ]
  },
  {
   "cell_type": "code",
   "execution_count": 44,
   "metadata": {},
   "outputs": [],
   "source": [
    "with open('test_dataset.pkl','wb') as f:\n",
    "    pickle.dump(dataset,f)"
   ]
  }
 ],
 "metadata": {
  "kernelspec": {
   "display_name": "ml",
   "language": "python",
   "name": "python3"
  },
  "language_info": {
   "codemirror_mode": {
    "name": "ipython",
    "version": 3
   },
   "file_extension": ".py",
   "mimetype": "text/x-python",
   "name": "python",
   "nbconvert_exporter": "python",
   "pygments_lexer": "ipython3",
   "version": "3.10.13"
  }
 },
 "nbformat": 4,
 "nbformat_minor": 2
}
