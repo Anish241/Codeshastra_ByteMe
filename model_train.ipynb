{
 "cells": [
  {
   "cell_type": "code",
   "execution_count": 1,
   "metadata": {},
   "outputs": [],
   "source": [
    "import pickle\n",
    "import os\n",
    "import numpy as np"
   ]
  },
  {
   "cell_type": "markdown",
   "metadata": {},
   "source": [
    "## Data splitting"
   ]
  },
  {
   "cell_type": "code",
   "execution_count": 2,
   "metadata": {},
   "outputs": [],
   "source": [
    "with open('dataset.pkl','rb') as f:\n",
    "    dataset = pickle.load(f)"
   ]
  },
  {
   "cell_type": "code",
   "execution_count": 3,
   "metadata": {},
   "outputs": [
    {
     "data": {
      "text/plain": [
       "(105, 12, 64, 64, 3)"
      ]
     },
     "execution_count": 3,
     "metadata": {},
     "output_type": "execute_result"
    }
   ],
   "source": [
    "x = dataset['features']\n",
    "np.array(x).shape"
   ]
  },
  {
   "cell_type": "code",
   "execution_count": 4,
   "metadata": {},
   "outputs": [],
   "source": [
    "y = dataset['labels']\n",
    "y = []\n",
    "for label in dataset['labels']:\n",
    "    if(label == 'correct'):\n",
    "        y.append(1)\n",
    "    if(label == 'incorrect'):\n",
    "        y.append(0)"
   ]
  },
  {
   "cell_type": "code",
   "execution_count": 5,
   "metadata": {},
   "outputs": [],
   "source": [
    "dataset['labels'] = y"
   ]
  },
  {
   "cell_type": "code",
   "execution_count": 6,
   "metadata": {},
   "outputs": [],
   "source": [
    "from sklearn.model_selection import train_test_split\n",
    "xtrain, xtest, ytrain, ytest = train_test_split(np.array(dataset['features']),np.array(dataset['labels']), test_size=0.25, random_state=100)"
   ]
  },
  {
   "cell_type": "markdown",
   "metadata": {},
   "source": [
    "## Training"
   ]
  },
  {
   "cell_type": "code",
   "execution_count": 7,
   "metadata": {},
   "outputs": [],
   "source": [
    "from keras.layers import Dense, ConvLSTM2D, MaxPooling3D, TimeDistributed, Dropout, Flatten\n",
    "from keras.models import Sequential\n",
    "from keras.callbacks import EarlyStopping"
   ]
  },
  {
   "cell_type": "code",
   "execution_count": 8,
   "metadata": {},
   "outputs": [],
   "source": [
    "def create_model():\n",
    "    model = Sequential()\n",
    "\n",
    "    model.add(ConvLSTM2D(filters=4, kernel_size=(3,3), activation='tanh', data_format='channels_last', recurrent_dropout=0.2, return_sequences=True,\n",
    "                         input_shape = (12,64,64,3)))\n",
    "    model.add(MaxPooling3D(pool_size=(1,2,2),padding='same', data_format='channels_last'))\n",
    "    model.add(TimeDistributed(Dropout(0.2)))\n",
    "\n",
    "    model.add(ConvLSTM2D(filters=8, kernel_size=(3,3), activation='tanh', data_format='channels_last', recurrent_dropout=0.2, return_sequences=True))\n",
    "    model.add(MaxPooling3D(pool_size=(1,2,2),padding='same', data_format='channels_last'))\n",
    "    model.add(TimeDistributed(Dropout(0.2)))\n",
    "\n",
    "    model.add(ConvLSTM2D(filters=14, kernel_size=(3,3), activation='tanh', data_format='channels_last', recurrent_dropout=0.2, return_sequences=True))\n",
    "    model.add(MaxPooling3D(pool_size=(1,2,2),padding='same', data_format='channels_last'))\n",
    "    model.add(TimeDistributed(Dropout(0.2)))\n",
    "\n",
    "    model.add(ConvLSTM2D(filters=14, kernel_size=(3,3), activation='tanh', data_format='channels_last', recurrent_dropout=0.2, return_sequences=True))\n",
    "    model.add(MaxPooling3D(pool_size=(1,2,2),padding='same', data_format='channels_last'))\n",
    "    model.add(TimeDistributed(Dropout(0.2)))\n",
    "\n",
    "    model.add(ConvLSTM2D(filters=16, kernel_size=(3,3), activation='tanh', data_format='channels_last', recurrent_dropout=0.2, return_sequences=True))\n",
    "    model.add(MaxPooling3D(pool_size=(1,2,2),padding='same', data_format='channels_last'))\n",
    "    \n",
    "    model.add(Flatten())\n",
    "\n",
    "    model.add(Dense(1, activation='sigmoid'))\n",
    "\n",
    "    model.summary()\n",
    "    return model"
   ]
  },
  {
   "cell_type": "code",
   "execution_count": 9,
   "metadata": {},
   "outputs": [
    {
     "name": "stdout",
     "output_type": "stream",
     "text": [
      "Model: \"sequential\"\n",
      "_________________________________________________________________\n",
      " Layer (type)                Output Shape              Param #   \n",
      "=================================================================\n",
      " conv_lstm2d (ConvLSTM2D)    (None, 12, 62, 62, 4)     1024      \n",
      "                                                                 \n",
      " max_pooling3d (MaxPooling3D  (None, 12, 31, 31, 4)    0         \n",
      " )                                                               \n",
      "                                                                 \n",
      " time_distributed (TimeDistr  (None, 12, 31, 31, 4)    0         \n",
      " ibuted)                                                         \n",
      "                                                                 \n",
      " conv_lstm2d_1 (ConvLSTM2D)  (None, 12, 29, 29, 8)     3488      \n",
      "                                                                 \n",
      " max_pooling3d_1 (MaxPooling  (None, 12, 15, 15, 8)    0         \n",
      " 3D)                                                             \n",
      "                                                                 \n",
      " time_distributed_1 (TimeDis  (None, 12, 15, 15, 8)    0         \n",
      " tributed)                                                       \n",
      "                                                                 \n",
      " conv_lstm2d_2 (ConvLSTM2D)  (None, 12, 13, 13, 14)    11144     \n",
      "                                                                 \n",
      " max_pooling3d_2 (MaxPooling  (None, 12, 7, 7, 14)     0         \n",
      " 3D)                                                             \n",
      "                                                                 \n",
      " time_distributed_2 (TimeDis  (None, 12, 7, 7, 14)     0         \n",
      " tributed)                                                       \n",
      "                                                                 \n",
      " conv_lstm2d_3 (ConvLSTM2D)  (None, 12, 5, 5, 14)      14168     \n",
      "                                                                 \n",
      " max_pooling3d_3 (MaxPooling  (None, 12, 3, 3, 14)     0         \n",
      " 3D)                                                             \n",
      "                                                                 \n",
      " time_distributed_3 (TimeDis  (None, 12, 3, 3, 14)     0         \n",
      " tributed)                                                       \n",
      "                                                                 \n",
      " conv_lstm2d_4 (ConvLSTM2D)  (None, 12, 1, 1, 16)      17344     \n",
      "                                                                 \n",
      " max_pooling3d_4 (MaxPooling  (None, 12, 1, 1, 16)     0         \n",
      " 3D)                                                             \n",
      "                                                                 \n",
      " flatten (Flatten)           (None, 192)               0         \n",
      "                                                                 \n",
      " dense (Dense)               (None, 1)                 193       \n",
      "                                                                 \n",
      "=================================================================\n",
      "Total params: 47,361\n",
      "Trainable params: 47,361\n",
      "Non-trainable params: 0\n",
      "_________________________________________________________________\n"
     ]
    }
   ],
   "source": [
    "model = create_model()"
   ]
  },
  {
   "cell_type": "code",
   "execution_count": 10,
   "metadata": {},
   "outputs": [],
   "source": [
    "# early_stopping_callback = EarlyStopping(monitor='val_loss', patience=10, mode='min', restore_best_weights=True)\n",
    "\n",
    "# model.compile(loss='binary_crossentropy', optimizer='Adam', metrics=['accuracy'])\n",
    "\n",
    "# model.fit(xtrain, ytrain, epochs=50, batch_size=4, shuffle=True, callbacks=[early_stopping_callback], validation_split=0.2)"
   ]
  },
  {
   "cell_type": "code",
   "execution_count": 11,
   "metadata": {},
   "outputs": [
    {
     "name": "stdout",
     "output_type": "stream",
     "text": [
      "Epoch 1/50\n",
      "16/16 [==============================] - 24s 567ms/step - loss: 0.6935 - accuracy: 0.4194 - val_loss: 0.6919 - val_accuracy: 0.5625\n",
      "Epoch 2/50\n",
      "16/16 [==============================] - 8s 491ms/step - loss: 0.6929 - accuracy: 0.5806 - val_loss: 0.6875 - val_accuracy: 0.5625\n",
      "Epoch 3/50\n",
      "16/16 [==============================] - 8s 488ms/step - loss: 0.6772 - accuracy: 0.7419 - val_loss: 0.5680 - val_accuracy: 1.0000\n",
      "Epoch 4/50\n",
      "16/16 [==============================] - 8s 497ms/step - loss: 0.3465 - accuracy: 0.9839 - val_loss: 0.0915 - val_accuracy: 1.0000\n",
      "Epoch 5/50\n",
      "16/16 [==============================] - 8s 497ms/step - loss: 0.0416 - accuracy: 1.0000 - val_loss: 0.0061 - val_accuracy: 1.0000\n",
      "Epoch 6/50\n",
      "16/16 [==============================] - 8s 515ms/step - loss: 0.0049 - accuracy: 1.0000 - val_loss: 0.0016 - val_accuracy: 1.0000\n",
      "Epoch 7/50\n",
      "16/16 [==============================] - 8s 532ms/step - loss: 0.0018 - accuracy: 1.0000 - val_loss: 8.9767e-04 - val_accuracy: 1.0000\n",
      "Epoch 8/50\n",
      " 8/16 [==============>...............] - ETA: 4s - loss: 0.0010 - accuracy: 1.0000  "
     ]
    },
    {
     "ename": "",
     "evalue": "",
     "output_type": "error",
     "traceback": [
      "\u001b[1;31mThe Kernel crashed while executing code in the current cell or a previous cell. \n",
      "\u001b[1;31mPlease review the code in the cell(s) to identify a possible cause of the failure. \n",
      "\u001b[1;31mClick <a href='https://aka.ms/vscodeJupyterKernelCrash'>here</a> for more info. \n",
      "\u001b[1;31mView Jupyter <a href='command:jupyter.viewOutput'>log</a> for further details."
     ]
    }
   ],
   "source": [
    "from keras.callbacks import EarlyStopping, ModelCheckpoint\n",
    "\n",
    "\n",
    "# Define Early Stopping Callback\n",
    "early_stopping_callback = EarlyStopping(monitor='val_loss', patience=10, mode='min', restore_best_weights=True)\n",
    "\n",
    "# Define ModelCheckpoint Callback to save the model at the end of training\n",
    "model_checkpoint_callback = ModelCheckpoint(filepath='best_model.h5', save_best_only=True, save_weights_only=False, monitor='val_loss', mode='min')\n",
    "\n",
    "# Compile the model\n",
    "model.compile(loss='binary_crossentropy', optimizer='Adam', metrics=['accuracy'])\n",
    "\n",
    "# Train the model with validation data and callbacks\n",
    "model.fit(xtrain, ytrain, epochs=50, batch_size=4, shuffle=True, callbacks=[early_stopping_callback, model_checkpoint_callback], validation_split=0.2)\n",
    "\n",
    "\n"
   ]
  },
  {
   "cell_type": "code",
   "execution_count": 12,
   "metadata": {},
   "outputs": [],
   "source": [
    "from keras.models import load_model\n",
    "\n",
    "# Load the best model saved during training\n",
    "best_model = load_model('best_model.h5')"
   ]
  },
  {
   "cell_type": "code",
   "execution_count": 13,
   "metadata": {},
   "outputs": [
    {
     "name": "stdout",
     "output_type": "stream",
     "text": [
      "1/1 [==============================] - 4s 4s/step\n"
     ]
    }
   ],
   "source": [
    "ypred = best_model.predict(xtest)"
   ]
  },
  {
   "cell_type": "code",
   "execution_count": 16,
   "metadata": {},
   "outputs": [
    {
     "data": {
      "text/plain": [
       "array([[1],\n",
       "       [1],\n",
       "       [1],\n",
       "       [1],\n",
       "       [1],\n",
       "       [0],\n",
       "       [0],\n",
       "       [0],\n",
       "       [1],\n",
       "       [0],\n",
       "       [0],\n",
       "       [0],\n",
       "       [1],\n",
       "       [1],\n",
       "       [0],\n",
       "       [1],\n",
       "       [0],\n",
       "       [0],\n",
       "       [0],\n",
       "       [0],\n",
       "       [1],\n",
       "       [0],\n",
       "       [1],\n",
       "       [1],\n",
       "       [0],\n",
       "       [0],\n",
       "       [1]])"
      ]
     },
     "execution_count": 16,
     "metadata": {},
     "output_type": "execute_result"
    }
   ],
   "source": [
    "# Define the threshold\n",
    "threshold = 0.5\n",
    "\n",
    "# Convert sigmoid outputs to binary values\n",
    "ypred = (ypred >= threshold).astype(int)\n",
    "ypred"
   ]
  },
  {
   "cell_type": "code",
   "execution_count": 17,
   "metadata": {},
   "outputs": [
    {
     "data": {
      "text/plain": [
       "array([[14,  0],\n",
       "       [ 0, 13]], dtype=int64)"
      ]
     },
     "execution_count": 17,
     "metadata": {},
     "output_type": "execute_result"
    }
   ],
   "source": [
    "from sklearn.metrics import *\n",
    "\n",
    "confusion_matrix(ytest,ypred)"
   ]
  },
  {
   "cell_type": "code",
   "execution_count": null,
   "metadata": {},
   "outputs": [],
   "source": []
  }
 ],
 "metadata": {
  "kernelspec": {
   "display_name": "ml",
   "language": "python",
   "name": "python3"
  },
  "language_info": {
   "codemirror_mode": {
    "name": "ipython",
    "version": 3
   },
   "file_extension": ".py",
   "mimetype": "text/x-python",
   "name": "python",
   "nbconvert_exporter": "python",
   "pygments_lexer": "ipython3",
   "version": "3.10.13"
  }
 },
 "nbformat": 4,
 "nbformat_minor": 2
}
